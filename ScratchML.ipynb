{
  "nbformat": 4,
  "nbformat_minor": 0,
  "metadata": {
    "colab": {
      "provenance": []
    },
    "kernelspec": {
      "name": "python3",
      "display_name": "Python 3"
    },
    "language_info": {
      "name": "python"
    }
  },
  "cells": [
    {
      "cell_type": "code",
      "execution_count": 2,
      "metadata": {
        "id": "C2P2moye9Nw6"
      },
      "outputs": [],
      "source": [
        "import numpy as np\n",
        "import matplotlib.pyplot as plt\n",
        "import random"
      ]
    },
    {
      "cell_type": "markdown",
      "source": [
        "## Linear Regression"
      ],
      "metadata": {
        "id": "eT-zIpYI5yEU"
      }
    },
    {
      "cell_type": "markdown",
      "source": [
        "1. Slope"
      ],
      "metadata": {
        "id": "-k9wJA13dpM7"
      }
    },
    {
      "cell_type": "code",
      "source": [
        "W = 3\n",
        "B = 5\n",
        "features = np.arange(1,21)\n",
        "labels = W*features + B\n",
        "X_test = np.arange(21,26)\n",
        "Y_test = W*X_test + B\n",
        "labels,features,X_test,Y_test"
      ],
      "metadata": {
        "colab": {
          "base_uri": "https://localhost:8080/"
        },
        "id": "IKNA6atp9htW",
        "outputId": "e8551048-f22e-4d56-aeab-3df802b1f4f7"
      },
      "execution_count": 3,
      "outputs": [
        {
          "output_type": "execute_result",
          "data": {
            "text/plain": [
              "(array([ 8, 11, 14, 17, 20, 23, 26, 29, 32, 35, 38, 41, 44, 47, 50, 53, 56,\n",
              "        59, 62, 65]),\n",
              " array([ 1,  2,  3,  4,  5,  6,  7,  8,  9, 10, 11, 12, 13, 14, 15, 16, 17,\n",
              "        18, 19, 20]),\n",
              " array([21, 22, 23, 24, 25]),\n",
              " array([68, 71, 74, 77, 80]))"
            ]
          },
          "metadata": {},
          "execution_count": 3
        }
      ]
    },
    {
      "cell_type": "markdown",
      "source": [
        "#### Trying to implement this !!\n",
        "<img src ='https://i.stack.imgur.com/OjlaY.png'><br>\n",
        "Error functions : RMSE,MAE,MSE,R^2\n"
      ],
      "metadata": {
        "id": "yGRLbwN34rwe"
      }
    },
    {
      "cell_type": "code",
      "source": [
        "class LinearRegressionModel:\n",
        "  def __init__(self,**kwargs):\n",
        "    random_state = kwargs.get('random_state')\n",
        "    if random_state:\n",
        "      random.seed(random_state)\n",
        "    self.W = random.randint(1,11)\n",
        "    self.B = random.randint(1,11)\n",
        "\n",
        "  def predict(self,x):\n",
        "    return (self.W*x) + self.B\n",
        "\n",
        "  def fit(self,X,Y):\n",
        "    x_m = np.mean(X)\n",
        "    y_m = np.mean(Y)\n",
        "    numerator = 0\n",
        "    denominator = 0\n",
        "    for x,y in zip(X, Y):\n",
        "      numerator += ((x - x_m)*(y - y_m))\n",
        "      denominator += ((x - x_m)**2)\n",
        "    self.W = numerator/denominator\n",
        "    self.B = y_m - self.W * x_m\n",
        "\n",
        "  def accuracy(self,test_x,test_y):\n",
        "    correct = 0\n",
        "    for i,j in zip(test_x,test_y):\n",
        "      out = model.predict(i)\n",
        "      if int(out) == int(j):\n",
        "        correct+=1\n",
        "    return (correct/len(test_x))*100\n",
        "\n",
        "  def get_params(self):\n",
        "    return self.W,self.B\n",
        "\n",
        "  def RMSE(self,X,Y):\n",
        "    rmse = 0\n",
        "    for i,j in zip(X,Y):\n",
        "      rmse += (self.predict(i) - j)**2\n",
        "    return np.sqrt(rmse/len(Y))\n",
        "\n",
        "  def MAE(self,X,Y):\n",
        "    mae = 0\n",
        "    for i,j in zip(X,Y):\n",
        "      mae += abs(self.predict(i)-j)\n",
        "    return mae/len(Y)\n",
        "\n",
        "  def R_squared(self,X,Y):\n",
        "    SS_res = 0\n",
        "    SS_tot = 0\n",
        "    y_m = np.mean(Y)D\n",
        "    for i,j in zip(X,Y):\n",
        "      SS_res += (self.predict(i)-j)**2\n",
        "      SS_tot += (self.predict(i)-y_m)**2\n",
        "    return 1-(SS_res/SS_tot)\n",
        "\n",
        "  def MSE(self,X,Y):\n",
        "    return (self.RMSE(X,Y))**2\n",
        "\n",
        "model = LinearRegressionModel()\n",
        "model"
      ],
      "metadata": {
        "id": "ZkjhaQB614Fz",
        "colab": {
          "base_uri": "https://localhost:8080/"
        },
        "outputId": "6dda9d43-7572-4a07-b063-96affb1129f9"
      },
      "execution_count": 16,
      "outputs": [
        {
          "output_type": "execute_result",
          "data": {
            "text/plain": [
              "<__main__.LinearRegressionModel at 0x78b259ca2ce0>"
            ]
          },
          "metadata": {},
          "execution_count": 16
        }
      ]
    },
    {
      "cell_type": "code",
      "source": [
        "model.RMSE(features,labels),model.MAE(features,labels),model.MSE(features,labels),model.R_squared(features,labels)"
      ],
      "metadata": {
        "colab": {
          "base_uri": "https://localhost:8080/"
        },
        "id": "nXDzhK-ldk3S",
        "outputId": "7d18027c-0858-44c6-f4ce-f117e8e1fe20"
      },
      "execution_count": 19,
      "outputs": [
        {
          "output_type": "execute_result",
          "data": {
            "text/plain": [
              "(0.0, 0.0, 0.0, 1.0)"
            ]
          },
          "metadata": {},
          "execution_count": 19
        }
      ]
    },
    {
      "cell_type": "code",
      "source": [
        "plt.scatter(features,labels)"
      ],
      "metadata": {
        "colab": {
          "base_uri": "https://localhost:8080/",
          "height": 447
        },
        "id": "JhQT06Otqg2V",
        "outputId": "354150ba-e20e-49c0-ea2f-ca693b8df6c5"
      },
      "execution_count": 15,
      "outputs": [
        {
          "output_type": "execute_result",
          "data": {
            "text/plain": [
              "<matplotlib.collections.PathCollection at 0x78b259c23730>"
            ]
          },
          "metadata": {},
          "execution_count": 15
        },
        {
          "output_type": "display_data",
          "data": {
            "text/plain": [
              "<Figure size 640x480 with 1 Axes>"
            ],
            "image/png": "[encoded data removed]"
          },
          "metadata": {}
        }
      ]
    },
    {
      "cell_type": "code",
      "source": [
        "model.accuracy(X_test,Y_test)"
      ],
      "metadata": {
        "colab": {
          "base_uri": "https://localhost:8080/"
        },
        "id": "wKQ_n144b9Mt",
        "outputId": "a8006d3c-3691-4868-a69b-2b76071a2283"
      },
      "execution_count": null,
      "outputs": [
        {
          "output_type": "execute_result",
          "data": {
            "text/plain": [
              "100.0"
            ]
          },
          "metadata": {},
          "execution_count": 22
        }
      ]
    },
    {
      "cell_type": "code",
      "source": [
        "model.fit(features,labels)\n",
        "model.get_params()"
      ],
      "metadata": {
        "colab": {
          "base_uri": "https://localhost:8080/"
        },
        "id": "kR9_-GKeNmP6",
        "outputId": "12bc3814-ae4d-422b-86da-794f830210f9"
      },
      "execution_count": 18,
      "outputs": [
        {
          "output_type": "execute_result",
          "data": {
            "text/plain": [
              "(3.0, 5.0)"
            ]
          },
          "metadata": {},
          "execution_count": 18
        }
      ]
    },
    {
      "cell_type": "markdown",
      "source": [
        "## Logistic Regression"
      ],
      "metadata": {
        "id": "RU7bJ2Ss59Oz"
      }
    },
    {
      "cell_type": "code",
      "source": [
        "from math import exp as exp"
      ],
      "metadata": {
        "id": "JvGDGuTn5_46"
      },
      "execution_count": null,
      "outputs": []
    },
    {
      "cell_type": "code",
      "source": [
        "class LogisticRegressionModel:\n"
      ],
      "metadata": {
        "id": "hQ88istV7wq7"
      },
      "execution_count": null,
      "outputs": []
    }
  ]
}