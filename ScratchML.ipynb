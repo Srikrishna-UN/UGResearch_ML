{
 "cells": [
  {
   "cell_type": "code",
   "execution_count": 12,
   "metadata": {
    "id": "C2P2moye9Nw6"
   },
   "outputs": [],
   "source": [
    "import numpy as np\n",
    "import matplotlib.pyplot as plt\n",
    "import random\n",
    "import pandas as pd\n",
    "from sklearn import linear_model as linear"
   ]
  },
  {
   "cell_type": "markdown",
   "metadata": {
    "id": "eT-zIpYI5yEU"
   },
   "source": [
    "## Linear Regression"
   ]
  },
  {
   "cell_type": "markdown",
   "metadata": {
    "id": "yGRLbwN34rwe"
   },
   "source": [
    "#### Trying to implement this !!\n",
    "<img src ='https://i.stack.imgur.com/OjlaY.png'><br>\n",
    "Error functions : RMSE,MAE,MSE,R^2\n"
   ]
  },
  {
   "cell_type": "code",
   "execution_count": 2,
   "metadata": {
    "colab": {
     "base_uri": "https://localhost:8080/"
    },
    "id": "ZkjhaQB614Fz",
    "outputId": "6dda9d43-7572-4a07-b063-96affb1129f9"
   },
   "outputs": [
    {
     "data": {
      "text/plain": [
       "<__main__.LinearRegressionModel at 0x1d4e387f100>"
      ]
     },
     "execution_count": 2,
     "metadata": {},
     "output_type": "execute_result"
    }
   ],
   "source": [
    "class LinearRegressionModel:\n",
    "  def __init__(self,**kwargs):\n",
    "    random_state = kwargs.get('random_state')\n",
    "    if random_state:\n",
    "      random.seed(random_state)\n",
    "    self.W = random.randint(1,11)\n",
    "    self.B = random.randint(1,11)\n",
    "\n",
    "  def predict(self,x):\n",
    "    return (self.W*x) + self.B\n",
    "\n",
    "  def fit(self,X,Y):\n",
    "    x_m = np.mean(X)\n",
    "    y_m = np.mean(Y)\n",
    "    numerator = 0\n",
    "    denominator = 0\n",
    "    for x,y in zip(X, Y):\n",
    "      numerator += ((x * y) - (x * y_m))\n",
    "      denominator += ((x)**2 - (x * x_m))\n",
    "    self.W = numerator/denominator\n",
    "    self.B = y_m - self.W * x_m\n",
    "\n",
    "  def accuracy(self,test_x,test_y):\n",
    "    correct = 0\n",
    "    for i,j in zip(test_x,test_y):\n",
    "      out = model.predict(i)\n",
    "      if int(out) == int(j):\n",
    "        correct+=1\n",
    "    return (correct/len(test_x))*100\n",
    "\n",
    "  def get_params(self):\n",
    "    return self.W,self.B\n",
    "\n",
    "  def RMSE(self,X,Y):\n",
    "    rmse = 0\n",
    "    for i,j in zip(X,Y):\n",
    "      rmse += (self.predict(i) - j)**2\n",
    "    return np.sqrt(rmse/len(Y))\n",
    "\n",
    "  def MAE(self,X,Y):\n",
    "    mae = 0\n",
    "    for i,j in zip(X,Y):\n",
    "      mae += abs(self.predict(i)-j)\n",
    "    return mae/len(Y)\n",
    "\n",
    "  def R_squared(self,X,Y):\n",
    "    SS_res = 0\n",
    "    SS_tot = 0\n",
    "    y_m = np.mean(Y)\n",
    "    for i,j in zip(X,Y):\n",
    "      SS_res += (self.predict(i)-j)**2\n",
    "      SS_tot += (self.predict(i)-y_m)**2\n",
    "    return 1-(SS_res/SS_tot)\n",
    "\n",
    "  def MSE(self,X,Y):\n",
    "    return (self.RMSE(X,Y))**2\n",
    "\n",
    "model = LinearRegressionModel()\n",
    "model"
   ]
  },
  {
   "cell_type": "markdown",
   "metadata": {},
   "source": [
    "##### Synthetic Data"
   ]
  },
  {
   "cell_type": "code",
   "execution_count": 3,
   "metadata": {
    "colab": {
     "base_uri": "https://localhost:8080/"
    },
    "id": "IKNA6atp9htW",
    "outputId": "e8551048-f22e-4d56-aeab-3df802b1f4f7"
   },
   "outputs": [
    {
     "data": {
      "text/plain": [
       "(array([ 8, 11, 14, 17, 20, 23, 26, 29, 32, 35, 38, 41, 44, 47, 50, 53, 56,\n",
       "        59, 62, 65]),\n",
       " array([ 1,  2,  3,  4,  5,  6,  7,  8,  9, 10, 11, 12, 13, 14, 15, 16, 17,\n",
       "        18, 19, 20]),\n",
       " array([21, 22, 23, 24, 25]),\n",
       " array([68, 71, 74, 77, 80]))"
      ]
     },
     "execution_count": 3,
     "metadata": {},
     "output_type": "execute_result"
    }
   ],
   "source": [
    "W = 3\n",
    "B = 5\n",
    "features = np.arange(1,21)\n",
    "labels = W*features + B\n",
    "X_test = np.arange(21,26)\n",
    "Y_test = W*X_test + B\n",
    "labels,features,X_test,Y_test"
   ]
  },
  {
   "cell_type": "code",
   "execution_count": 5,
   "metadata": {
    "colab": {
     "base_uri": "https://localhost:8080/"
    },
    "id": "kR9_-GKeNmP6",
    "outputId": "12bc3814-ae4d-422b-86da-794f830210f9"
   },
   "outputs": [
    {
     "data": {
      "text/plain": [
       "(3.0, 5.0)"
      ]
     },
     "execution_count": 5,
     "metadata": {},
     "output_type": "execute_result"
    }
   ],
   "source": [
    "model.fit(features,labels)\n",
    "model.get_params()"
   ]
  },
  {
   "cell_type": "code",
   "execution_count": 6,
   "metadata": {
    "colab": {
     "base_uri": "https://localhost:8080/"
    },
    "id": "nXDzhK-ldk3S",
    "outputId": "7d18027c-0858-44c6-f4ce-f117e8e1fe20"
   },
   "outputs": [
    {
     "data": {
      "text/plain": [
       "(0.0, 0.0, 0.0, 1.0)"
      ]
     },
     "execution_count": 6,
     "metadata": {},
     "output_type": "execute_result"
    }
   ],
   "source": [
    "model.RMSE(features,labels),model.MAE(features,labels),model.MSE(features,labels),model.R_squared(features,labels)"
   ]
  },
  {
   "cell_type": "code",
   "execution_count": 7,
   "metadata": {
    "colab": {
     "base_uri": "https://localhost:8080/",
     "height": 447
    },
    "id": "JhQT06Otqg2V",
    "outputId": "354150ba-e20e-49c0-ea2f-ca693b8df6c5"
   },
   "outputs": [
    {
     "data": {
      "text/plain": [
       "<matplotlib.collections.PathCollection at 0x1b0dc13b430>"
      ]
     },
     "execution_count": 7,
     "metadata": {},
     "output_type": "execute_result"
    },
    {
     "data": {
      "image/png": "[encoded data removed]",
      "text/plain": [
       "<Figure size 640x480 with 1 Axes>"
      ]
     },
     "metadata": {},
     "output_type": "display_data"
    }
   ],
   "source": [
    "plt.scatter(features,labels)"
   ]
  },
  {
   "cell_type": "code",
   "execution_count": 9,
   "metadata": {
    "colab": {
     "base_uri": "https://localhost:8080/"
    },
    "id": "wKQ_n144b9Mt",
    "outputId": "a8006d3c-3691-4868-a69b-2b76071a2283"
   },
   "outputs": [
    {
     "data": {
      "text/plain": [
       "100.0"
      ]
     },
     "execution_count": 9,
     "metadata": {},
     "output_type": "execute_result"
    }
   ],
   "source": [
    "model.accuracy(X_test,Y_test)"
   ]
  },
  {
   "cell_type": "markdown",
   "metadata": {},
   "source": [
    "#### Kaggle Dataset"
   ]
  },
  {
   "cell_type": "code",
   "execution_count": 26,
   "metadata": {},
   "outputs": [
    {
     "data": {
      "text/plain": [
       "Index(['cgpa', 'placement_exam_marks', 'placed'], dtype='object')"
      ]
     },
     "execution_count": 26,
     "metadata": {},
     "output_type": "execute_result"
    }
   ],
   "source": [
    "placement_df = pd.read_csv(\"archive/placement.csv\")\n",
    "placement_df.dropna(inplace=True)\n",
    "placement_df.columns"
   ]
  },
  {
   "cell_type": "code",
   "execution_count": 27,
   "metadata": {},
   "outputs": [],
   "source": [
    "cgpa = np.array(salary_df['cgpa'])\n",
    "job = np.array(salary_df['placed'])\n",
    "\n",
    "split_years = int(0.8*len(cgpa))\n",
    "split_salary = int(0.8*len(job))\n",
    "\n",
    "train_x,test_x = cgpa[:split_years],cgpa[split_years:]\n",
    "train_y,test_y = job[:split_salary],job[split_salary:]"
   ]
  },
  {
   "cell_type": "code",
   "execution_count": 29,
   "metadata": {},
   "outputs": [
    {
     "data": {
      "text/plain": [
       "(800, 800)"
      ]
     },
     "execution_count": 29,
     "metadata": {},
     "output_type": "execute_result"
    }
   ],
   "source": [
    "len(train_x),len(train_y)"
   ]
  },
  {
   "cell_type": "code",
   "execution_count": 6,
   "metadata": {},
   "outputs": [
    {
     "data": {
      "text/plain": [
       "35"
      ]
     },
     "execution_count": 6,
     "metadata": {},
     "output_type": "execute_result"
    }
   ],
   "source": [
    "len(salary)"
   ]
  },
  {
   "cell_type": "code",
   "execution_count": null,
   "metadata": {},
   "outputs": [
    {
     "data": {
      "text/plain": [
       "[<matplotlib.lines.Line2D at 0x1d4e8a5e4c0>]"
      ]
     },
     "execution_count": 25,
     "metadata": {},
     "output_type": "execute_result"
    },
    {
     "data": {
      "image/png": "[encoded data removed]",
      "text/plain": [
       "<Figure size 640x480 with 1 Axes>"
      ]
     },
     "metadata": {},
     "output_type": "display_data"
    }
   ],
   "source": [
    "plt.plot(train_x)"
   ]
  },
  {
   "cell_type": "code",
   "execution_count": 11,
   "metadata": {},
   "outputs": [
    {
     "data": {
      "text/plain": [
       "0.0"
      ]
     },
     "execution_count": 11,
     "metadata": {},
     "output_type": "execute_result"
    }
   ],
   "source": [
    "new_model = LinearRegressionModel()\n",
    "new_model.fit(train_x,train_y)\n",
    "new_model.accuracy(test_x,test_y)\n",
    "# new_model.predict(5)"
   ]
  },
  {
   "cell_type": "code",
   "execution_count": 19,
   "metadata": {},
   "outputs": [
    {
     "data": {
      "text/plain": [
       "32.76005637604417"
      ]
     },
     "execution_count": 19,
     "metadata": {},
     "output_type": "execute_result"
    }
   ],
   "source": [
    "skl_model = linear.LinearRegression().fit(train_x.reshape(-1,1),train_y)\n",
    "skl_model.score(test_x.reshape(-1,1),test_y)*100"
   ]
  },
  {
   "cell_type": "markdown",
   "metadata": {
    "id": "RU7bJ2Ss59Oz"
   },
   "source": [
    "## Logistic Regression"
   ]
  },
  {
   "cell_type": "code",
   "execution_count": null,
   "metadata": {
    "id": "JvGDGuTn5_46"
   },
   "outputs": [],
   "source": [
    "from math import exp as exp"
   ]
  },
  {
   "cell_type": "code",
   "execution_count": null,
   "metadata": {
    "id": "hQ88istV7wq7"
   },
   "outputs": [],
   "source": [
    "class LogisticRegressionModel:\n"
   ]
  }
 ],
 "metadata": {
  "colab": {
   "provenance": []
  },
  "kernelspec": {
   "display_name": "Python 3 (ipykernel)",
   "language": "python",
   "name": "python3"
  },
  "language_info": {
   "codemirror_mode": {
    "name": "ipython",
    "version": 3
   },
   "file_extension": ".py",
   "mimetype": "text/x-python",
   "name": "python",
   "nbconvert_exporter": "python",
   "pygments_lexer": "ipython3",
   "version": "3.9.13"
  }
 },
 "nbformat": 4,
 "nbformat_minor": 4
}
